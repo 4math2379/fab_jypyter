{
 "cells": [
  {
   "cell_type": "markdown",
   "id": "a442f298-3153-4cd2-9488-73fa61b7f511",
   "metadata": {},
   "source": [
    "# Personal Analysis Notebook\n",
    "\n",
    "This is my (Harrison Totty) personal analysis notebook. I wanted to keep it checked into this repo to serve as another example for how to work with the library, however I don't suspect it will be as well documented as some of the other notebooks in this repo."
   ]
  },
  {
   "cell_type": "markdown",
   "id": "431e9116-ecd4-40d7-bebc-1948e3837471",
   "metadata": {},
   "source": [
    "## Setup\n",
    "\n",
    "Here we import all of the card/deck data."
   ]
  },
  {
   "cell_type": "markdown",
   "id": "631c1d89-47cb-4298-9a05-def23cf5ef4e",
   "metadata": {},
   "source": [
    "### Import Library & Data Catalogs\n",
    "\n",
    "Here I import the `fab` library itself and all cards/sets in the game."
   ]
  },
  {
   "cell_type": "code",
   "execution_count": 33,
   "id": "44a4b212-f2d4-49cf-815d-a05d07b701ec",
   "metadata": {},
   "outputs": [],
   "source": [
    "import json\n",
    "import os\n",
    "\n",
    "from fab import *\n",
    "\n",
    "all_cards = CardList.load('~/work/data/cards.json', set_catalog=True)\n",
    "all_card_sets = CardSetCollection.load('~/work/data/card-sets.json', set_catalog=True)"
   ]
  },
  {
   "cell_type": "markdown",
   "id": "a0b7f3e6-3fd6-4804-83e4-56baa3e17e8c",
   "metadata": {},
   "source": [
    "### Import/Build Personal Inventory\n",
    "\n",
    "Here I define or otherwise import what cards I personally own."
   ]
  },
  {
   "cell_type": "code",
   "execution_count": 24,
   "id": "b465c28a-c355-47c6-ad2f-372e104f6b2d",
   "metadata": {},
   "outputs": [],
   "source": [
    "with open(os.path.expanduser('~/work/data/personal/my-cards.json'), 'r') as f:\n",
    "    my_card_inventory = {(i[0], i[1], i[2], i[3]): i[4] for i in json.loads(f.read())}\n",
    "    \n",
    "my_cards = CardList.empty()\n",
    "for k, v in my_card_inventory.items():\n",
    "    for _ in range(0, v):\n",
    "        my_cards.append(Card.from_identifier(k[0]))"
   ]
  },
  {
   "cell_type": "markdown",
   "id": "1ddb7afb-6c89-4033-86d5-cac0f23069a2",
   "metadata": {},
   "source": [
    "Here I re-save the above to the JSON file as needed."
   ]
  },
  {
   "cell_type": "code",
   "execution_count": 9,
   "id": "f706c5bd-f5c7-4919-8e0b-fb709379a470",
   "metadata": {},
   "outputs": [],
   "source": [
    "#with open(os.path.expanduser('~/work/data/personal/my-cards.json'), 'w') as f:\n",
    "#    f.write(json.dumps(\n",
    "#        [[k[0], k[1], k[2], k[3], v] for k, v in my_card_inventory.items()],\n",
    "#        indent = 2\n",
    "#    ))"
   ]
  },
  {
   "cell_type": "markdown",
   "id": "eb149b6a-0b24-4ed0-9e71-4661483ecf2f",
   "metadata": {},
   "source": [
    "### Import My Decks"
   ]
  },
  {
   "cell_type": "code",
   "execution_count": 35,
   "id": "7fa8987e-b066-4d4a-8503-ec82123095cb",
   "metadata": {},
   "outputs": [],
   "source": [
    "chane_cc_deck = Deck(\n",
    "    name = 'Chane Classic Constructed Deck',\n",
    "    hero = Card.from_full_name('Chane, Bound by Shadow'),\n",
    "    format = 'CC'\n",
    ")"
   ]
  },
  {
   "cell_type": "code",
   "execution_count": 37,
   "id": "d6cbc359-812a-43af-8567-67e1c241e3fc",
   "metadata": {},
   "outputs": [],
   "source": [
    "relevant_cards = chane_cc_deck.filter_related(my_cards)"
   ]
  },
  {
   "cell_type": "code",
   "execution_count": 38,
   "id": "a6d201df-4149-47d4-80c8-65f1751afe4c",
   "metadata": {},
   "outputs": [
    {
     "data": {
      "text/plain": [
       "{'Lord Sutcliffe': 1,\n",
       " 'Ebon Fold': 3,\n",
       " 'Aether Ironweave': 3,\n",
       " 'Spell Fray Gloves': 1,\n",
       " 'Snapdragon Scalers': 1,\n",
       " 'Soul Reaping (1)': 2,\n",
       " 'Bounding Demigon (1)': 5,\n",
       " 'Piercing Shadow Vise (1)': 5,\n",
       " 'Rift Bind (1)': 4,\n",
       " 'Rifted Torment (1)': 4,\n",
       " 'Rip Through Reality (1)': 4,\n",
       " 'Seeds of Agony (1)': 4,\n",
       " 'Unhallowed Rites (1)': 3,\n",
       " 'Seeds of Agony (2)': 2,\n",
       " 'Seeping Shadows (2)': 2,\n",
       " 'Piercing Shadow Vise (3)': 4,\n",
       " 'Rift Bind (3)': 4,\n",
       " 'Rifted Torment (3)': 3,\n",
       " 'Ghostly Visit (1)': 3,\n",
       " 'Howl from Beyond (1)': 2,\n",
       " 'Lunartide Plunderer (2)': 5,\n",
       " 'Spew Shadow (2)': 4,\n",
       " 'Consuming Volition (1)': 2,\n",
       " 'Vexing Malice (1)': 1,\n",
       " 'Arcanic Crackle (3)': 3,\n",
       " \"Warmonger's Recital (1)\": 6,\n",
       " \"Warmonger's Recital (2)\": 5,\n",
       " 'Soul Shackle': 5,\n",
       " 'Dimenxxional Gateway (1)': 1,\n",
       " 'Dimenxxional Gateway (3)': 1,\n",
       " 'Seeping Shadows (1)': 2,\n",
       " 'Bounding Demigon (2)': 2,\n",
       " 'Bounding Demigon (3)': 2,\n",
       " 'Rift Bind (2)': 1,\n",
       " 'Rifted Torment (2)': 2,\n",
       " 'Rip Through Reality (2)': 2,\n",
       " 'Rip Through Reality (3)': 1,\n",
       " 'Seeds of Agony (3)': 3,\n",
       " 'Eclipse (3)': 1,\n",
       " 'Mutated Mass (3)': 1,\n",
       " 'Consuming Aftermath (1)': 1,\n",
       " 'Howl from Beyond (3)': 2,\n",
       " 'Ghostly Visit (2)': 1,\n",
       " 'Lunartide Plunderer (1)': 2,\n",
       " 'Void Wraith (1)': 1,\n",
       " 'Void Wraith (2)': 2,\n",
       " 'Void Wraith (3)': 2,\n",
       " 'Spew Shadow (1)': 2,\n",
       " 'Spew Shadow (3)': 2,\n",
       " 'Blood Tribute (2)': 2,\n",
       " 'Blood Tribute (3)': 2,\n",
       " 'Eclipse Existence (3)': 3,\n",
       " 'Blasmophet, the Soul Harvester': 1,\n",
       " 'Ursur, the Soul Reaper': 1,\n",
       " 'Vexing Malice (2)': 2,\n",
       " 'Vexing Malice (3)': 1,\n",
       " 'Arcanic Crackle (1)': 4,\n",
       " 'Arcanic Crackle (2)': 2,\n",
       " 'Blood Drop Brocade': 3,\n",
       " 'Stubby Hammerers': 2,\n",
       " 'Ironhide Helm': 1,\n",
       " 'Ironhide Plate': 3,\n",
       " 'Ironhide Gauntlet': 3,\n",
       " 'Ironhide Legs': 2,\n",
       " 'Exude Confidence (1)': 1,\n",
       " 'Out Muscle (1)': 1,\n",
       " 'Seek Horizon (2)': 1,\n",
       " 'Seek Horizon (3)': 1,\n",
       " 'Tremor of iArathael (3)': 1,\n",
       " 'Rise Above (2)': 1,\n",
       " \"Captain's Call (3)\": 1,\n",
       " 'Adrenaline Rush (1)': 3,\n",
       " 'Adrenaline Rush (2)': 4,\n",
       " 'Adrenaline Rush (3)': 1,\n",
       " 'Belittle (1)': 4,\n",
       " 'Belittle (2)': 2,\n",
       " 'Belittle (3)': 2,\n",
       " 'Brandish (1)': 3,\n",
       " 'Brandish (2)': 4,\n",
       " 'Brandish (3)': 2,\n",
       " 'Frontline Scout (2)': 2,\n",
       " 'Frontline Scout (3)': 1,\n",
       " 'Overload (1)': 3,\n",
       " 'Overload (2)': 3,\n",
       " 'Overload (3)': 2,\n",
       " 'Pound for Pound (1)': 2,\n",
       " 'Pound for Pound (2)': 2,\n",
       " 'Pound for Pound (3)': 1,\n",
       " 'Rally the Rearguard (1)': 1,\n",
       " 'Rally the Rearguard (2)': 2,\n",
       " 'Rally the Rearguard (3)': 3,\n",
       " 'Stony Wootonhog (1)': 3,\n",
       " 'Stony Wootonhog (2)': 3,\n",
       " 'Stony Wootonhog (3)': 1,\n",
       " 'Surging Militia (1)': 1,\n",
       " 'Surging Militia (3)': 1,\n",
       " 'Yinti Yanti (1)': 1,\n",
       " 'Yinti Yanti (2)': 2,\n",
       " 'Yinti Yanti (3)': 2,\n",
       " 'Zealous Belting (1)': 4,\n",
       " 'Zealous Belting (3)': 1,\n",
       " 'Minnowism (1)': 2,\n",
       " 'Minnowism (2)': 1,\n",
       " 'Minnowism (3)': 2,\n",
       " \"Warmonger's Recital (3)\": 1,\n",
       " 'Talisman of Dousing (2)': 2,\n",
       " 'Memorial Ground (1)': 4,\n",
       " 'Memorial Ground (2)': 2,\n",
       " 'Memorial Ground (3)': 1,\n",
       " 'Cracked Bauble (2)': 2,\n",
       " 'Heartened Cross Strap': 1,\n",
       " 'Spell Fray Leggings': 1}"
      ]
     },
     "execution_count": 38,
     "metadata": {},
     "output_type": "execute_result"
    }
   ],
   "source": [
    "relevant_cards.counts()"
   ]
  },
  {
   "cell_type": "code",
   "execution_count": null,
   "id": "b3e607ac-0cad-4a4e-9340-fffcd51c185c",
   "metadata": {},
   "outputs": [],
   "source": []
  }
 ],
 "metadata": {
  "kernelspec": {
   "display_name": "Python 3 (ipykernel)",
   "language": "python",
   "name": "python3"
  },
  "language_info": {
   "codemirror_mode": {
    "name": "ipython",
    "version": 3
   },
   "file_extension": ".py",
   "mimetype": "text/x-python",
   "name": "python",
   "nbconvert_exporter": "python",
   "pygments_lexer": "ipython3",
   "version": "3.10.4"
  }
 },
 "nbformat": 4,
 "nbformat_minor": 5
}
