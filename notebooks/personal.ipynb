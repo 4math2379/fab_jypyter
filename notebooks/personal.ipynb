{
 "cells": [
  {
   "cell_type": "markdown",
   "id": "a442f298-3153-4cd2-9488-73fa61b7f511",
   "metadata": {},
   "source": [
    "# Personal Analysis Notebook\n",
    "\n",
    "This is my (Harrison Totty) personal analysis notebook. I wanted to keep it checked into this repo to serve as another example for how to work with the library, however I don't suspect it will be as well documented as some of the other notebooks in this repo."
   ]
  },
  {
   "cell_type": "markdown",
   "id": "431e9116-ecd4-40d7-bebc-1948e3837471",
   "metadata": {},
   "source": [
    "## Setup\n",
    "\n",
    "Here we import all of the card/deck data."
   ]
  },
  {
   "cell_type": "markdown",
   "id": "631c1d89-47cb-4298-9a05-def23cf5ef4e",
   "metadata": {},
   "source": [
    "### Import Library & Data Catalogs\n",
    "\n",
    "Here I import the `fab` library itself and all cards/sets in the game."
   ]
  },
  {
   "cell_type": "code",
   "execution_count": 1,
   "id": "44a4b212-f2d4-49cf-815d-a05d07b701ec",
   "metadata": {},
   "outputs": [],
   "source": [
    "import json\n",
    "import os\n",
    "\n",
    "from fab import *\n",
    "\n",
    "all_cards = CardList.load('~/work/data/cards.json', set_catalog=True)\n",
    "all_card_sets = CardSetCollection.load('~/work/data/card-sets.json', set_catalog=True)"
   ]
  },
  {
   "cell_type": "markdown",
   "id": "a0b7f3e6-3fd6-4804-83e4-56baa3e17e8c",
   "metadata": {},
   "source": [
    "### Import/Build Personal Inventory\n",
    "\n",
    "Here I define or otherwise import what cards I personally own."
   ]
  },
  {
   "cell_type": "code",
   "execution_count": 2,
   "id": "b465c28a-c355-47c6-ad2f-372e104f6b2d",
   "metadata": {},
   "outputs": [],
   "source": [
    "with open(os.path.expanduser('~/work/data/personal/my-cards.json'), 'r') as f:\n",
    "    my_card_inventory = {(i[0], i[1], i[2], i[3]): i[4] for i in json.loads(f.read())}\n",
    "    \n",
    "my_cards = CardList.empty()\n",
    "for k, v in my_card_inventory.items():\n",
    "    for _ in range(0, v):\n",
    "        my_cards.append(Card.from_identifier(k[0]))"
   ]
  },
  {
   "cell_type": "markdown",
   "id": "1ddb7afb-6c89-4033-86d5-cac0f23069a2",
   "metadata": {},
   "source": [
    "Here I re-save the above to the JSON file as needed."
   ]
  },
  {
   "cell_type": "code",
   "execution_count": 9,
   "id": "f706c5bd-f5c7-4919-8e0b-fb709379a470",
   "metadata": {},
   "outputs": [],
   "source": [
    "#with open(os.path.expanduser('~/work/data/personal/my-cards.json'), 'w') as f:\n",
    "#    f.write(json.dumps(\n",
    "#        [[k[0], k[1], k[2], k[3], v] for k, v in my_card_inventory.items()],\n",
    "#        indent = 2\n",
    "#    ))"
   ]
  },
  {
   "cell_type": "markdown",
   "id": "eb149b6a-0b24-4ed0-9e71-4661483ecf2f",
   "metadata": {},
   "source": [
    "### Building Decks"
   ]
  },
  {
   "cell_type": "code",
   "execution_count": 3,
   "id": "7fa8987e-b066-4d4a-8503-ec82123095cb",
   "metadata": {},
   "outputs": [],
   "source": [
    "chane_cc_deck = Deck(\n",
    "    name = 'Chane CC Deck',\n",
    "    hero = Card.from_full_name('Chane, Bound by Shadow'),\n",
    "    format = 'CC'\n",
    ")\n",
    "chane_cc_deck.auto_build(my_cards, honor_counts=True)"
   ]
  },
  {
   "cell_type": "code",
   "execution_count": 4,
   "id": "578a319b-fb8b-4a1c-813f-fa04ec51ab97",
   "metadata": {},
   "outputs": [
    {
     "data": {
      "text/plain": [
       "(True, None)"
      ]
     },
     "execution_count": 4,
     "metadata": {},
     "output_type": "execute_result"
    }
   ],
   "source": [
    "chane_cc_deck.is_valid(ignore_hero_legality=True)"
   ]
  },
  {
   "cell_type": "code",
   "execution_count": 5,
   "id": "f3ca01f7-4c06-4dff-bb09-69c2108f4bae",
   "metadata": {},
   "outputs": [
    {
     "data": {
      "text/plain": [
       "{'Chane, Bound by Shadow': 1,\n",
       " 'Aether Ironweave': 3,\n",
       " 'Blood Drop Brocade': 3,\n",
       " 'Ebon Fold': 2,\n",
       " 'Ironhide Gauntlet': 2,\n",
       " 'Ironhide Helm': 1,\n",
       " 'Ironhide Legs': 1,\n",
       " 'Ironhide Plate': 3,\n",
       " 'Snapdragon Scalers': 1,\n",
       " 'Spell Fray Gloves': 1,\n",
       " 'Spell Fray Leggings': 1,\n",
       " 'Stubby Hammerers': 2,\n",
       " 'Arcanic Crackle (3)': 1,\n",
       " 'Arcanic Crackle (1)': 1,\n",
       " 'Belittle (2)': 1,\n",
       " 'Blood Tribute (3)': 1,\n",
       " 'Bounding Demigon (2)': 2,\n",
       " 'Bounding Demigon (1)': 1,\n",
       " 'Brandish (1)': 1,\n",
       " 'Consuming Volition (1)': 1,\n",
       " 'Dimenxxional Gateway (3)': 1,\n",
       " 'Eclipse (3)': 1,\n",
       " 'Eclipse Existence (3)': 3,\n",
       " 'Frontline Scout (2)': 1,\n",
       " 'Ghostly Visit (1)': 1,\n",
       " 'Howl from Beyond (1)': 1,\n",
       " 'Howl from Beyond (3)': 1,\n",
       " 'Lunartide Plunderer (2)': 3,\n",
       " 'Lunartide Plunderer (1)': 1,\n",
       " 'Memorial Ground (1)': 1,\n",
       " 'Out Muscle (1)': 1,\n",
       " 'Piercing Shadow Vise (1)': 2,\n",
       " 'Rift Bind (1)': 1,\n",
       " 'Rifted Torment (3)': 2,\n",
       " 'Rifted Torment (1)': 1,\n",
       " 'Rifted Torment (2)': 1,\n",
       " 'Rip Through Reality (1)': 1,\n",
       " 'Rip Through Reality (2)': 1,\n",
       " 'Rise Above (2)': 1,\n",
       " 'Seeds of Agony (1)': 3,\n",
       " 'Seeds of Agony (3)': 1,\n",
       " 'Seeping Shadows (2)': 2,\n",
       " 'Seeping Shadows (1)': 2,\n",
       " 'Soul Reaping (1)': 1,\n",
       " 'Spew Shadow (3)': 2,\n",
       " 'Spew Shadow (1)': 1,\n",
       " 'Spew Shadow (2)': 2,\n",
       " 'Stony Wootonhog (1)': 1,\n",
       " 'Stony Wootonhog (2)': 1,\n",
       " 'Talisman of Dousing (2)': 1,\n",
       " 'Tremor of iArathael (3)': 1,\n",
       " 'Unhallowed Rites (1)': 2,\n",
       " 'Vexing Malice (3)': 1,\n",
       " 'Vexing Malice (2)': 1,\n",
       " 'Void Wraith (3)': 1,\n",
       " 'Void Wraith (2)': 1,\n",
       " \"Warmonger's Recital (2)\": 1,\n",
       " 'Zealous Belting (1)': 1,\n",
       " 'Soul Shackle': 1,\n",
       " 'Ursur, the Soul Reaper': 1}"
      ]
     },
     "execution_count": 5,
     "metadata": {},
     "output_type": "execute_result"
    }
   ],
   "source": [
    "chane_cc_deck.to_deck_list(include_tokens=True)"
   ]
  },
  {
   "cell_type": "code",
   "execution_count": 6,
   "id": "a72f761c-a775-4efa-a554-aebac838215e",
   "metadata": {},
   "outputs": [
    {
     "data": {
      "text/plain": [
       "{'count': 60,\n",
       " 'max_cost': 6,\n",
       " 'max_defense': 3,\n",
       " 'max_health': 0,\n",
       " 'max_intelligence': 0,\n",
       " 'max_pitch': 3,\n",
       " 'max_power': 7,\n",
       " 'mean_cost': 1.45,\n",
       " 'mean_defense': 2.45,\n",
       " 'mean_health': 0.0,\n",
       " 'mean_intelligence': 0.0,\n",
       " 'mean_pitch': 1.85,\n",
       " 'mean_power': 3.66,\n",
       " 'median_cost': 2.0,\n",
       " 'median_defense': 2,\n",
       " 'median_health': 0.0,\n",
       " 'median_intelligence': 0.0,\n",
       " 'median_pitch': 2.0,\n",
       " 'median_power': 4,\n",
       " 'min_cost': 0,\n",
       " 'min_defense': 2,\n",
       " 'min_health': 0,\n",
       " 'min_intelligence': 0,\n",
       " 'min_pitch': 1,\n",
       " 'min_power': 1,\n",
       " 'pitch_cost_difference': 24,\n",
       " 'power_defense_difference': -2,\n",
       " 'stdev_cost': 1.21,\n",
       " 'stdev_defense': 0.5,\n",
       " 'stdev_health': 0.0,\n",
       " 'stdev_intelligence': 0.0,\n",
       " 'stdev_pitch': 0.82,\n",
       " 'stdev_power': 1.61,\n",
       " 'total_cost': 87,\n",
       " 'total_defense': 130,\n",
       " 'total_health': 0,\n",
       " 'total_intelligence': 0,\n",
       " 'total_pitch': 111,\n",
       " 'total_power': 128}"
      ]
     },
     "execution_count": 6,
     "metadata": {},
     "output_type": "execute_result"
    }
   ],
   "source": [
    "chane_cc_deck.cards.statistics()"
   ]
  },
  {
   "cell_type": "code",
   "execution_count": 7,
   "id": "de9b3210-0938-42ac-b056-9c30939ef117",
   "metadata": {},
   "outputs": [],
   "source": [
    "prism_blitz_deck = Deck(\n",
    "    name = 'Prism Blitz Deck',\n",
    "    hero = Card.from_full_name('Prism'),\n",
    "    format = 'B'\n",
    ")\n",
    "prism_blitz_deck.auto_build(my_cards, honor_counts=True, max_generic_count=40)"
   ]
  }
 ],
 "metadata": {
  "kernelspec": {
   "display_name": "Python 3 (ipykernel)",
   "language": "python",
   "name": "python3"
  },
  "language_info": {
   "codemirror_mode": {
    "name": "ipython",
    "version": 3
   },
   "file_extension": ".py",
   "mimetype": "text/x-python",
   "name": "python",
   "nbconvert_exporter": "python",
   "pygments_lexer": "ipython3",
   "version": "3.10.4"
  }
 },
 "nbformat": 4,
 "nbformat_minor": 5
}
