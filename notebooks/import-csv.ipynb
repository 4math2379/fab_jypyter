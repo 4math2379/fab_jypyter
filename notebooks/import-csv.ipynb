{
 "cells": [
  {
   "cell_type": "markdown",
   "id": "eb44ced7-336d-4e79-b9a5-38e9d5db7651",
   "metadata": {},
   "source": [
    "# Import Flesh and Blood CSV Data"
   ]
  },
  {
   "cell_type": "markdown",
   "id": "f3bd5d20-f73f-4f39-9513-1955efc3ea69",
   "metadata": {},
   "source": [
    "Here we'll import the data provided by [flesh-cube/flesh-and-blood-cards](https://github.com/flesh-cube/flesh-and-blood-cards) and convert it to our JSON format."
   ]
  },
  {
   "cell_type": "code",
   "execution_count": 1,
   "id": "48e3405a-812f-4728-95bd-ededaef53015",
   "metadata": {},
   "outputs": [],
   "source": [
    "from fab import CardList, CardSetCollection\n",
    "cards = CardList.load('~/work/csvs/card.csv', set_catalog=True)\n",
    "card_sets = CardSetCollection.load('~/work/csvs/set.csv', set_catalog=True)"
   ]
  },
  {
   "cell_type": "markdown",
   "id": "0af02ecb-39e7-4bb9-b538-67a659891214",
   "metadata": {},
   "source": [
    "This block keeps track of upstream changes with respect to our pre-parsed data."
   ]
  },
  {
   "cell_type": "code",
   "execution_count": 8,
   "id": "6cae71b8-138e-40d6-99a7-284d6fe76098",
   "metadata": {
    "scrolled": true,
    "tags": []
   },
   "outputs": [
    {
     "name": "stdout",
     "output_type": "stream",
     "text": [
      "Added 0 cards and updated 0 cards.\n"
     ]
    }
   ],
   "source": [
    "import os\n",
    "if os.path.isfile(os.path.expanduser('~/work/data/cards.json')):\n",
    "    old_cards = CardList.load('~/work/data/cards.json')\n",
    "    old_hashes = {card.full_name: hash(card.to_json()) for card in old_cards}\n",
    "    new_hashes = {card.full_name: hash(card.to_json()) for card in cards}\n",
    "    added = 0\n",
    "    updated = 0\n",
    "    for nk, nv in new_hashes.items():\n",
    "        if not nk in old_hashes:\n",
    "            added += 1\n",
    "            print(f'Added \"{nk}\".')\n",
    "        elif nv != old_hashes[nk]:\n",
    "            updated += 1\n",
    "            print(f'Updated \"{nk}\".')\n",
    "    print(f'Added {added} cards and updated {updated} cards.')"
   ]
  },
  {
   "cell_type": "markdown",
   "id": "3e3bf681-b1f6-41da-9568-b8c7d5d00047",
   "metadata": {},
   "source": [
    "If we feel comfortable with the changes, we re-save over their old JSON versions."
   ]
  },
  {
   "cell_type": "code",
   "execution_count": 7,
   "id": "cddd7a2e-2ef8-4f94-b22f-f854ef2cecc4",
   "metadata": {},
   "outputs": [],
   "source": [
    "cards.save('~/work/data/cards.json')\n",
    "card_sets.save('~/work/data/card-sets.json')"
   ]
  }
 ],
 "metadata": {
  "kernelspec": {
   "display_name": "Python 3 (ipykernel)",
   "language": "python",
   "name": "python3"
  },
  "language_info": {
   "codemirror_mode": {
    "name": "ipython",
    "version": 3
   },
   "file_extension": ".py",
   "mimetype": "text/x-python",
   "name": "python",
   "nbconvert_exporter": "python",
   "pygments_lexer": "ipython3",
   "version": "3.10.4"
  }
 },
 "nbformat": 4,
 "nbformat_minor": 5
}
