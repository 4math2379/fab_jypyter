{
 "cells": [
  {
   "cell_type": "markdown",
   "id": "eb44ced7-336d-4e79-b9a5-38e9d5db7651",
   "metadata": {},
   "source": [
    "# Import Flesh and Blood CSV Data"
   ]
  },
  {
   "cell_type": "markdown",
   "id": "f3bd5d20-f73f-4f39-9513-1955efc3ea69",
   "metadata": {},
   "source": [
    "Here we'll import the data provided by [flesh-cube/flesh-and-blood-cards](https://github.com/flesh-cube/flesh-and-blood-cards) and convert it to our JSON format."
   ]
  },
  {
   "cell_type": "code",
   "execution_count": 2,
   "id": "48e3405a-812f-4728-95bd-ededaef53015",
   "metadata": {},
   "outputs": [],
   "source": [
    "from fab import CardList, CardSetCollection\n",
    "cards = CardList.load('~/work/csvs/card.csv')"
   ]
  },
  {
   "cell_type": "code",
   "execution_count": 3,
   "id": "cddd7a2e-2ef8-4f94-b22f-f854ef2cecc4",
   "metadata": {},
   "outputs": [],
   "source": [
    "cards.save('~/work/data/cards.json')"
   ]
  },
  {
   "cell_type": "code",
   "execution_count": null,
   "id": "646d684a-ad3c-4a7b-8141-f355845b9107",
   "metadata": {},
   "outputs": [],
   "source": []
  }
 ],
 "metadata": {
  "kernelspec": {
   "display_name": "Python 3 (ipykernel)",
   "language": "python",
   "name": "python3"
  },
  "language_info": {
   "codemirror_mode": {
    "name": "ipython",
    "version": 3
   },
   "file_extension": ".py",
   "mimetype": "text/x-python",
   "name": "python",
   "nbconvert_exporter": "python",
   "pygments_lexer": "ipython3",
   "version": "3.9.12"
  }
 },
 "nbformat": 4,
 "nbformat_minor": 5
}
