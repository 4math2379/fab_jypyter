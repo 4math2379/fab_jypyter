{
 "cells": [
  {
   "cell_type": "markdown",
   "id": "126985c2-a799-4ed3-a561-f9fb047fde13",
   "metadata": {},
   "source": [
    "# Scratch Notebook\n",
    "\n",
    "This is just a scratch/test notebook."
   ]
  },
  {
   "cell_type": "code",
   "execution_count": 1,
   "id": "616a65da-2484-4734-a32d-83ea0b71b5af",
   "metadata": {},
   "outputs": [],
   "source": [
    "from fab import *\n",
    "cards = CardList.load('~/work/data/cards.json', set_catalog=True)\n",
    "card_sets = CardSetCollection.load('~/work/data/card-sets.json', set_catalog=True)"
   ]
  },
  {
   "cell_type": "code",
   "execution_count": 2,
   "id": "a0bde63e-2b2f-4d0e-9d09-7c43d244a969",
   "metadata": {},
   "outputs": [
    {
     "data": {
      "text/markdown": [
       "### Prism _(Light Illusionist Hero - Young)_\n",
       "\n",
       "**Once per Turn Instant** - <img src=\"https://fabdb.net/img/resource.png\" alt=\"{r}\" width=\"11\"/><img src=\"https://fabdb.net/img/resource.png\" alt=\"{r}\" width=\"11\"/>, banish a card from Prism's soul: Create a Spectral Shield token. *(It's an Illusionist aura with \"If your hero would be dealt damage, instead destroy Spectral Shield and prevent 1 damage that source would deal.\")*\n",
       "\n",
       "| Attribute | Value |\n",
       "|---|---|\n",
       "| Health | 20 |\n",
       "| Intelligence | 4 |\n"
      ],
      "text/plain": [
       "<IPython.core.display.Markdown object>"
      ]
     },
     "metadata": {},
     "output_type": "display_data"
    }
   ],
   "source": [
    "Card.from_full_name('Prism').render(icon_size=11)"
   ]
  },
  {
   "cell_type": "code",
   "execution_count": null,
   "id": "3f9d8565-3c71-4d2d-a01c-171cd24a487c",
   "metadata": {},
   "outputs": [],
   "source": []
  }
 ],
 "metadata": {
  "kernelspec": {
   "display_name": "Python 3 (ipykernel)",
   "language": "python",
   "name": "python3"
  },
  "language_info": {
   "codemirror_mode": {
    "name": "ipython",
    "version": 3
   },
   "file_extension": ".py",
   "mimetype": "text/x-python",
   "name": "python",
   "nbconvert_exporter": "python",
   "pygments_lexer": "ipython3",
   "version": "3.10.4"
  }
 },
 "nbformat": 4,
 "nbformat_minor": 5
}
